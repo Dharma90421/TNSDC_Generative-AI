{
  "metadata": {
    "kernelspec": {
      "language": "python",
      "display_name": "Python 3",
      "name": "python3"
    },
    "language_info": {
      "pygments_lexer": "ipython3",
      "nbconvert_exporter": "python",
      "version": "3.6.4",
      "file_extension": ".py",
      "codemirror_mode": {
        "name": "ipython",
        "version": 3
      },
      "name": "python",
      "mimetype": "text/x-python"
    },
    "colab": {
      "name": "[Conditional GAN]Know📚,Train⚙️,Infer🧐",
      "provenance": []
    }
  },
  "nbformat_minor": 0,
  "nbformat": 4,
  "cells": [
    {
      "source": [
        "\n",
        "# IMPORTANT: RUN THIS CELL IN ORDER TO IMPORT YOUR KAGGLE DATA SOURCES\n",
        "# TO THE CORRECT LOCATION (/kaggle/input) IN YOUR NOTEBOOK,\n",
        "# THEN FEEL FREE TO DELETE THIS CELL.\n",
        "# NOTE: THIS NOTEBOOK ENVIRONMENT DIFFERS FROM KAGGLE'S PYTHON\n",
        "# ENVIRONMENT SO THERE MAY BE MISSING LIBRARIES USED BY YOUR\n",
        "# NOTEBOOK.\n",
        "\n",
        "import os\n",
        "import sys\n",
        "from tempfile import NamedTemporaryFile\n",
        "from urllib.request import urlopen\n",
        "from urllib.parse import unquote, urlparse\n",
        "from urllib.error import HTTPError\n",
        "from zipfile import ZipFile\n",
        "import tarfile\n",
        "import shutil\n",
        "\n",
        "CHUNK_SIZE = 40960\n",
        "DATA_SOURCE_MAPPING = 'fashionmnist:https%3A%2F%2Fstorage.googleapis.com%2Fkaggle-data-sets%2F2243%2F9243%2Fbundle%2Farchive.zip%3FX-Goog-Algorithm%3DGOOG4-RSA-SHA256%26X-Goog-Credential%3Dgcp-kaggle-com%2540kaggle-161607.iam.gserviceaccount.com%252F20240401%252Fauto%252Fstorage%252Fgoog4_request%26X-Goog-Date%3D20240401T070730Z%26X-Goog-Expires%3D259200%26X-Goog-SignedHeaders%3Dhost%26X-Goog-Signature%3D024aa4879d061a9e2292376c3c701a9b31b0ae1af2c4b03f43a8f366008edbd7747a0a02c25680d1b67942c5cb87f284f26c00dffca11dfef1ee9e538d9cdfa200a66ae0d77be0dadaff2c9d13f1620b6101e082f00521d5ff2a59204543af1e31d71c6236ce6799edf3f34964e002724eae129609133c1cae9236fffce24c3b5136225bb684c6fc73d263b34fdb013f2e4daf83f0025e8b4a4b25aac624b1bb678f405a17862db5657382b47043e0efb75a5333b622a0c1a7c7a6eee0b9fcd4a7510dd7596794463d1c87d5d5f43a81a6aebb79128dc7e191797be08bc07f651ddda6351cc6b394fb227c5e15ad15f1fd44616009f031d2b542c5c5aeb68a20,machine-learning-architecture-diagrams:https%3A%2F%2Fstorage.googleapis.com%2Fkaggle-data-sets%2F3438321%2F6157637%2Fbundle%2Farchive.zip%3FX-Goog-Algorithm%3DGOOG4-RSA-SHA256%26X-Goog-Credential%3Dgcp-kaggle-com%2540kaggle-161607.iam.gserviceaccount.com%252F20240401%252Fauto%252Fstorage%252Fgoog4_request%26X-Goog-Date%3D20240401T070730Z%26X-Goog-Expires%3D259200%26X-Goog-SignedHeaders%3Dhost%26X-Goog-Signature%3D5da007ccb93a798fbcf0aabff8cc8210f7fa46bc31cd0865b0e8b66352b1e68428bb3279ddb37d74aa128ea41da5b857cc5984caf4b1a5e1f234bc49ce2f6220c3bef4bba5dc6a53ea281f5df53ddb4eccfcfe21382603f877a800b120b82ca120c595dd136b57667e34b2c91d682ba692f00bb3369522c2f2119698fc02f4671949c29751f1137cd56550d29f8cac08bb1d5acde3defd424f23741e392b81102279bcf3219df60086f4b509da6f680adf49ba9c9aba5f2f8abdc1f762a2cc87594fca02240accb5e1fb2af82c995c04a211e425054597cf6e30a82ae707ac30926c6fca3aadb65a61093532e92bf69c0dc9492584c6d250ead22b403019162b'\n",
        "\n",
        "KAGGLE_INPUT_PATH='/kaggle/input'\n",
        "KAGGLE_WORKING_PATH='/kaggle/working'\n",
        "KAGGLE_SYMLINK='kaggle'\n",
        "\n",
        "!umount /kaggle/input/ 2> /dev/null\n",
        "shutil.rmtree('/kaggle/input', ignore_errors=True)\n",
        "os.makedirs(KAGGLE_INPUT_PATH, 0o777, exist_ok=True)\n",
        "os.makedirs(KAGGLE_WORKING_PATH, 0o777, exist_ok=True)\n",
        "\n",
        "try:\n",
        "  os.symlink(KAGGLE_INPUT_PATH, os.path.join(\"..\", 'input'), target_is_directory=True)\n",
        "except FileExistsError:\n",
        "  pass\n",
        "try:\n",
        "  os.symlink(KAGGLE_WORKING_PATH, os.path.join(\"..\", 'working'), target_is_directory=True)\n",
        "except FileExistsError:\n",
        "  pass\n",
        "\n",
        "for data_source_mapping in DATA_SOURCE_MAPPING.split(','):\n",
        "    directory, download_url_encoded = data_source_mapping.split(':')\n",
        "    download_url = unquote(download_url_encoded)\n",
        "    filename = urlparse(download_url).path\n",
        "    destination_path = os.path.join(KAGGLE_INPUT_PATH, directory)\n",
        "    try:\n",
        "        with urlopen(download_url) as fileres, NamedTemporaryFile() as tfile:\n",
        "            total_length = fileres.headers['content-length']\n",
        "            print(f'Downloading {directory}, {total_length} bytes compressed')\n",
        "            dl = 0\n",
        "            data = fileres.read(CHUNK_SIZE)\n",
        "            while len(data) > 0:\n",
        "                dl += len(data)\n",
        "                tfile.write(data)\n",
        "                done = int(50 * dl / int(total_length))\n",
        "                sys.stdout.write(f\"\\r[{'=' * done}{' ' * (50-done)}] {dl} bytes downloaded\")\n",
        "                sys.stdout.flush()\n",
        "                data = fileres.read(CHUNK_SIZE)\n",
        "            if filename.endswith('.zip'):\n",
        "              with ZipFile(tfile) as zfile:\n",
        "                zfile.extractall(destination_path)\n",
        "            else:\n",
        "              with tarfile.open(tfile.name) as tarfile:\n",
        "                tarfile.extractall(destination_path)\n",
        "            print(f'\\nDownloaded and uncompressed: {directory}')\n",
        "    except HTTPError as e:\n",
        "        print(f'Failed to load (likely expired) {download_url} to path {destination_path}')\n",
        "        continue\n",
        "    except OSError as e:\n",
        "        print(f'Failed to load {download_url} to path {destination_path}')\n",
        "        continue\n",
        "\n",
        "print('Data source import complete.')\n"
      ],
      "metadata": {
        "id": "SLomCyy1lysx",
        "outputId": "5c8f3130-8d68-4ef6-826c-f592a2b0ad7d",
        "colab": {
          "base_uri": "https://localhost:8080/"
        }
      },
      "cell_type": "code",
      "outputs": [
        {
          "output_type": "stream",
          "name": "stdout",
          "text": [
            "Downloading fashionmnist, 72114846 bytes compressed\n",
            "[==================================================] 72114846 bytes downloaded\n",
            "Downloaded and uncompressed: fashionmnist\n",
            "Downloading machine-learning-architecture-diagrams, 136733 bytes compressed\n",
            "[==================================================] 136733 bytes downloaded\n",
            "Downloaded and uncompressed: machine-learning-architecture-diagrams\n",
            "Data source import complete.\n"
          ]
        }
      ],
      "execution_count": 1
    },
    {
      "cell_type": "markdown",
      "source": [
        "<div style=\"background-color:#5D73F2; color:#19180F; font-size:40px; font-family:Arial; padding:10px; border: 5px solid #19180F; border-radius:10px\"> Conditional GAN </div>\n",
        "<div style=\"background-color:#A8B4F6; color:#19180F; font-size:30px; font-family:Arial; padding:10px; border: 5px solid #19180F; border-radius:10px\"> Architecture Overview</div>\n",
        "<div style=\"background-color:#D5D9F2; color:#19180F; font-size:15px; font-family:Arial; padding:10px; border: 5px solid #19180F; border-radius:10px\">\n",
        "The Conditional Generative Adversarial Network (CGAN) consists of two main components: the Generator and the Discriminator.<br><br>\n",
        "1. Generator:<br><br>\n",
        "   - The Generator takes two inputs: \"Noise (z)\" and \"Conditional Input (c).\" The noise input is a random vector that serves as a source of randomness, while the conditional input provides additional information to guide the generation process.<br>\n",
        "   - The noise input and the conditional input are passed through fully connected layers, which are mathematical operations that transform the inputs into a higher-dimensional representation.<br>\n",
        "   - The transformed inputs go through more fully connected layers to further refine the generated output.<br>\n",
        "   - Finally, the output is generated as the \"Generated Sample (x),\" which represents an image or data point created by the Generator.<br>\n",
        "<br>\n",
        "2. Discriminator:<br><br>\n",
        "   - The Discriminator takes two inputs: \"Input Sample (x)\" and \"Conditional Input (c).\" The input sample is an actual image or data point, while the conditional input provides context for the Discriminator's evaluation.<br>\n",
        "   - Similar to the Generator, the inputs are processed through fully connected layers to extract meaningful features.<br>\n",
        "   - The transformed inputs are further processed through additional fully connected layers to capture more complex patterns and details.<br>\n",
        "   - The output of the Discriminator is the \"Probability (Real or Fake),\" which represents the likelihood that the input sample is real (from the true dataset) or fake (generated by the Generator).<br><br>\n",
        "3. Training Process:<br><br>\n",
        "   - The Generator and Discriminator are trained in a competitive manner.<br>\n",
        "   - During training, the Generator tries to generate realistic samples that can fool the Discriminator into classifying them as real.<br>\n",
        "   - The Discriminator, on the other hand, aims to accurately distinguish between real and fake samples.<br>\n",
        "   - This adversarial training process leads to the refinement of both the Generator and Discriminator, where the Generator becomes more adept at generating realistic samples, while the Discriminator becomes more skilled at distinguishing between real and fake samples.<br>\n",
        "   - The overall goal is for the Generator to generate samples that are indistinguishable from real samples, fooling the Discriminator into accepting them as authentic.<br>\n",
        "<br>\n",
        "The Conditional GAN architecture allows the generation of specific samples based on the conditional input, enabling control over the generated outputs. By providing different conditional inputs, you can influence the Generator to generate samples with specific attributes or characteristics, making the CGAN a powerful tool for conditional data generation and manipulation.</div>"
      ],
      "metadata": {
        "id": "2AE_NaIKlys-"
      }
    },
    {
      "cell_type": "code",
      "source": [
        "from IPython.display import SVG, display\n",
        "svg_file = '/kaggle/input/machine-learning-architecture-diagrams/CGAN.svg'\n",
        "display(SVG(filename=svg_file))"
      ],
      "metadata": {
        "execution": {
          "iopub.status.busy": "2023-07-18T22:30:02.850578Z",
          "iopub.execute_input": "2023-07-18T22:30:02.851424Z",
          "iopub.status.idle": "2023-07-18T22:30:02.912442Z",
          "shell.execute_reply.started": "2023-07-18T22:30:02.851373Z",
          "shell.execute_reply": "2023-07-18T22:30:02.910441Z"
        },
        "trusted": true,
        "id": "shRsvgumlytC",
        "outputId": "5897b115-8e9d-4362-8eea-56efcf0bc371",
        "colab": {
          "base_uri": "https://localhost:8080/",
          "height": 741
        }
      },
      "execution_count": 2,
      "outputs": [
        {
          "output_type": "display_data",
          "data": {
            "text/plain": [
              "<IPython.core.display.SVG object>"
            ],
            "image/svg+xml": "<svg xmlns=\"http://www.w3.org/2000/svg\" xmlns:xlink=\"http://www.w3.org/1999/xlink\" width=\"655pt\" height=\"540pt\" viewBox=\"0.00 0.00 654.66 540.40\">\n<g id=\"graph0\" class=\"graph\" transform=\"scale(1 1) rotate(0) translate(4 536.4)\">\n<title>G</title>\n<polygon fill=\"#ffffff\" stroke=\"transparent\" points=\"-4,4 -4,-536.4 650.6613,-536.4 650.6613,4 -4,4\"/>\n<text text-anchor=\"middle\" x=\"323.3307\" y=\"-8.2\" font-family=\"Helvetica,sans-Serif\" font-size=\"14.00\" fill=\"#000000\">Conditional GAN Architecture</text>\n<g id=\"clust1\" class=\"cluster\">\n<title>cluster_gen</title>\n<path fill=\"#add8e6\" stroke=\"#add8e6\" stroke-width=\"2\" d=\"M20,-32.8C20,-32.8 164,-32.8 164,-32.8 170,-32.8 176,-38.8 176,-44.8 176,-44.8 176,-512.4 176,-512.4 176,-518.4 170,-524.4 164,-524.4 164,-524.4 20,-524.4 20,-524.4 14,-524.4 8,-518.4 8,-512.4 8,-512.4 8,-44.8 8,-44.8 8,-38.8 14,-32.8 20,-32.8\"/>\n<text text-anchor=\"middle\" x=\"92\" y=\"-507.8\" font-family=\"Helvetica,sans-Serif\" font-size=\"14.00\" fill=\"#000000\">Generator</text>\n</g>\n<!-- input -->\n<g id=\"node1\" class=\"node\">\n<title>input</title>\n<polygon fill=\"#ffa500\" stroke=\"#ffa500\" points=\"288.014,-382.8 183.986,-382.8 183.986,-346.8 288.014,-346.8 288.014,-382.8\"/>\n<text text-anchor=\"middle\" x=\"236\" y=\"-361.2\" font-family=\"Helvetica,sans-Serif\" font-size=\"12.00\" fill=\"#000000\">Input Sample (x)</text>\n</g>\n<!-- fc1 -->\n<g id=\"node3\" class=\"node\">\n<title>fc1</title>\n<polygon fill=\"#ffa500\" stroke=\"#ffa500\" points=\"167.0264,-309.8 30.9736,-309.8 30.9736,-273.8 167.0264,-273.8 167.0264,-309.8\"/>\n<text text-anchor=\"middle\" x=\"99\" y=\"-288.2\" font-family=\"Helvetica,sans-Serif\" font-size=\"12.00\" fill=\"#000000\">Fully Connected Layer</text>\n</g>\n<!-- input&#45;&gt;fc1 -->\n<g id=\"edge1\" class=\"edge\">\n<title>input-&gt;fc1</title>\n<path fill=\"none\" stroke=\"#000000\" d=\"M196.2191,-346.7551C177.1512,-337.1035 154.5181,-325.1156 135.8456,-314.8016\"/>\n<polygon fill=\"#000000\" stroke=\"#000000\" points=\"137.4694,-311.6998 127.0302,-309.8904 134.0625,-317.8148 137.4694,-311.6998\"/>\n</g>\n<!-- input&#45;&gt;fc1 -->\n<g id=\"edge5\" class=\"edge\">\n<title>input-&gt;fc1</title>\n<path fill=\"none\" stroke=\"#000000\" d=\"M208.0505,-346.7551C190.736,-337.0157 168.1226,-324.8975 147.9432,-314.5207\"/>\n<polygon fill=\"#000000\" stroke=\"#000000\" points=\"149.3687,-311.3188 138.8706,-309.8904 146.1866,-317.5537 149.3687,-311.3188\"/>\n</g>\n<!-- generator -->\n<g id=\"node6\" class=\"node\">\n<title>generator</title>\n<polygon fill=\"#d3d3d3\" stroke=\"transparent\" points=\"420.9075,-382.8 345.0925,-382.8 345.0925,-346.8 420.9075,-346.8 420.9075,-382.8\"/>\n<text text-anchor=\"middle\" x=\"383\" y=\"-360.6\" font-family=\"Helvetica,sans-Serif\" font-size=\"14.00\" fill=\"#000000\">generator</text>\n</g>\n<!-- input&#45;&gt;generator -->\n<g id=\"edge9\" class=\"edge\">\n<title>input-&gt;generator</title>\n<path fill=\"none\" stroke=\"#add8e6\" d=\"M288.2406,-364.8C303.394,-364.8 319.8664,-364.8 334.7627,-364.8\"/>\n<polygon fill=\"#add8e6\" stroke=\"#add8e6\" points=\"334.7882,-368.3001 344.7882,-364.8 334.7881,-361.3001 334.7882,-368.3001\"/>\n<text text-anchor=\"middle\" x=\"316.5267\" y=\"-370.8\" font-family=\"Helvetica,sans-Serif\" font-size=\"10.00\" fill=\"#000000\">Noise (z)</text>\n</g>\n<!-- input&#45;&gt;generator -->\n<!-- discriminator -->\n<g id=\"node7\" class=\"node\">\n<title>discriminator</title>\n<polygon fill=\"#d3d3d3\" stroke=\"transparent\" points=\"646.8231,-382.8 551.1769,-382.8 551.1769,-346.8 646.8231,-346.8 646.8231,-382.8\"/>\n<text text-anchor=\"middle\" x=\"599\" y=\"-360.6\" font-family=\"Helvetica,sans-Serif\" font-size=\"14.00\" fill=\"#000000\">discriminator</text>\n</g>\n<!-- input&#45;&gt;discriminator -->\n<g id=\"edge10\" class=\"edge\">\n<title>input-&gt;discriminator</title>\n<path fill=\"none\" stroke=\"#ffa500\" d=\"M282.8375,-382.903C324.8404,-397.0082 388.2806,-413.0738 444.1655,-405.8 476.8487,-401.5461 512.4582,-392.4424 541.2783,-383.8917\"/>\n<polygon fill=\"#ffa500\" stroke=\"#ffa500\" points=\"542.6147,-387.1442 551.1733,-380.8991 540.5882,-380.4439 542.6147,-387.1442\"/>\n<text text-anchor=\"middle\" x=\"420\" y=\"-403.8\" font-family=\"Helvetica,sans-Serif\" font-size=\"10.00\" fill=\"#000000\">Sample (x)</text>\n</g>\n<!-- cond_input -->\n<g id=\"node2\" class=\"node\">\n<title>cond_input</title>\n<polygon fill=\"#ffa500\" stroke=\"#ffa500\" points=\"160.8525,-466.8 37.1475,-466.8 37.1475,-430.8 160.8525,-430.8 160.8525,-466.8\"/>\n<text text-anchor=\"middle\" x=\"99\" y=\"-445.2\" font-family=\"Helvetica,sans-Serif\" font-size=\"12.00\" fill=\"#000000\">Conditional Input (c)</text>\n</g>\n<!-- cond_input&#45;&gt;fc1 -->\n<g id=\"edge2\" class=\"edge\">\n<title>cond_input-&gt;fc1</title>\n<path fill=\"none\" stroke=\"#000000\" d=\"M94.506,-430.7901C91.8116,-403.7259 91.5307,-352.3215 93.6632,-320.1816\"/>\n<polygon fill=\"#000000\" stroke=\"#000000\" points=\"97.1623,-320.3328 94.479,-310.0835 90.1851,-319.7691 97.1623,-320.3328\"/>\n</g>\n<!-- cond_input&#45;&gt;fc1 -->\n<g id=\"edge6\" class=\"edge\">\n<title>cond_input-&gt;fc1</title>\n<path fill=\"none\" stroke=\"#000000\" d=\"M103.494,-430.7901C106.1884,-403.7259 106.4693,-352.3215 104.3368,-320.1816\"/>\n<polygon fill=\"#000000\" stroke=\"#000000\" points=\"107.8149,-319.7691 103.521,-310.0835 100.8377,-320.3328 107.8149,-319.7691\"/>\n</g>\n<!-- fc2 -->\n<g id=\"node4\" class=\"node\">\n<title>fc2</title>\n<polygon fill=\"#ffa500\" stroke=\"#ffa500\" points=\"162.0264,-187.8 25.9736,-187.8 25.9736,-151.8 162.0264,-151.8 162.0264,-187.8\"/>\n<text text-anchor=\"middle\" x=\"94\" y=\"-166.2\" font-family=\"Helvetica,sans-Serif\" font-size=\"12.00\" fill=\"#000000\">Fully Connected Layer</text>\n</g>\n<!-- fc1&#45;&gt;fc2 -->\n<g id=\"edge3\" class=\"edge\">\n<title>fc1-&gt;fc2</title>\n<path fill=\"none\" stroke=\"#000000\" d=\"M93.3068,-273.7985C90.4143,-253.7958 88.8029,-221.2427 89.3639,-197.8831\"/>\n<polygon fill=\"#000000\" stroke=\"#000000\" points=\"92.8615,-198.0115 89.7778,-187.8754 85.8675,-197.7222 92.8615,-198.0115\"/>\n</g>\n<!-- fc1&#45;&gt;fc2 -->\n<g id=\"edge7\" class=\"edge\">\n<title>fc1-&gt;fc2</title>\n<path fill=\"none\" stroke=\"#000000\" d=\"M103.2176,-273.7985C104.4707,-253.7958 103.4137,-221.2427 100.938,-197.8831\"/>\n<polygon fill=\"#000000\" stroke=\"#000000\" points=\"104.4015,-197.3718 99.7038,-187.8754 97.4541,-198.2286 104.4015,-197.3718\"/>\n</g>\n<!-- output -->\n<g id=\"node5\" class=\"node\">\n<title>output</title>\n<polygon fill=\"#ffa500\" stroke=\"#ffa500\" points=\"168.0032,-76.8 15.9968,-76.8 15.9968,-40.8 168.0032,-40.8 168.0032,-76.8\"/>\n<text text-anchor=\"middle\" x=\"92\" y=\"-55.2\" font-family=\"Helvetica,sans-Serif\" font-size=\"12.00\" fill=\"#000000\">Probability (Real or Fake)</text>\n</g>\n<!-- fc2&#45;&gt;output -->\n<g id=\"edge4\" class=\"edge\">\n<title>fc2-&gt;output</title>\n<path fill=\"none\" stroke=\"#000000\" d=\"M88.5034,-151.4706C86.4002,-134.0373 85.6497,-107.5482 86.5284,-87.3489\"/>\n<polygon fill=\"#000000\" stroke=\"#000000\" points=\"90.0347,-87.3544 87.1616,-77.1566 83.0482,-86.9203 90.0347,-87.3544\"/>\n</g>\n<!-- fc2&#45;&gt;output -->\n<g id=\"edge8\" class=\"edge\">\n<title>fc2-&gt;output</title>\n<path fill=\"none\" stroke=\"#000000\" d=\"M98.8361,-151.4706C100.311,-134.0373 100.107,-107.5482 98.5004,-87.3489\"/>\n<polygon fill=\"#000000\" stroke=\"#000000\" points=\"101.9602,-86.7668 97.4999,-77.1566 94.9937,-87.4508 101.9602,-86.7668\"/>\n</g>\n<!-- generator&#45;&gt;output -->\n<g id=\"edge13\" class=\"edge\">\n<title>generator-&gt;output</title>\n<path fill=\"none\" stroke=\"#add8e6\" d=\"M357.833,-346.7121C342.5635,-333.469 326,-313.9896 326,-291.8 326,-291.8 326,-291.8 326,-114.3 326,-82.8768 245.1013,-69.2185 178.4376,-63.298\"/>\n<polygon fill=\"#add8e6\" stroke=\"#add8e6\" points=\"178.5545,-59.7956 168.2966,-62.446 177.9684,-66.771 178.5545,-59.7956\"/>\n<text text-anchor=\"middle\" x=\"375.1755\" y=\"-208.8\" font-family=\"Helvetica,sans-Serif\" font-size=\"10.00\" fill=\"#000000\">Generated Sample (x)</text>\n</g>\n<!-- generator&#45;&gt;discriminator -->\n<g id=\"edge11\" class=\"edge\">\n<title>generator-&gt;discriminator</title>\n<path fill=\"none\" stroke=\"#c0c0c0\" d=\"M421.0604,-352.8462C426.3577,-351.5873 431.7673,-350.5096 436.9707,-349.8 480.2813,-343.8933 491.9022,-344.7551 535.3217,-349.8 537.2678,-350.0261 539.2408,-350.2899 541.2282,-350.5852\"/>\n<polygon fill=\"#c0c0c0\" stroke=\"#c0c0c0\" points=\"540.7804,-354.0593 551.2275,-352.2962 541.9611,-347.1596 540.7804,-354.0593\"/>\n<text text-anchor=\"middle\" x=\"486.1462\" y=\"-352.8\" font-family=\"Helvetica,sans-Serif\" font-size=\"10.00\" fill=\"#000000\">Generated Sample (x)</text>\n</g>\n<!-- generator&#45;&gt;discriminator -->\n<!-- discriminator&#45;&gt;output -->\n<g id=\"edge14\" class=\"edge\">\n<title>discriminator-&gt;output</title>\n<path fill=\"none\" stroke=\"#ffa500\" d=\"M562.3357,-346.7253C542.9011,-334.3205 523,-315.7667 523,-291.8 523,-291.8 523,-291.8 523,-114.3 523,-79.868 303.8254,-66.3204 178.0673,-61.381\"/>\n<polygon fill=\"#ffa500\" stroke=\"#ffa500\" points=\"178.1885,-57.8832 168.062,-60.9984 177.9209,-64.8781 178.1885,-57.8832\"/>\n<text text-anchor=\"middle\" x=\"579.668\" y=\"-208.8\" font-family=\"Helvetica,sans-Serif\" font-size=\"10.00\" fill=\"#000000\">Probability (Real or Fake)</text>\n</g>\n<!-- discriminator&#45;&gt;generator -->\n<g id=\"edge12\" class=\"edge\">\n<title>discriminator-&gt;generator</title>\n<path fill=\"none\" stroke=\"#c0c0c0\" d=\"M551.0595,-364.8C515.4303,-364.8 467.0147,-364.8 431.2999,-364.8\"/>\n<polygon fill=\"#c0c0c0\" stroke=\"#c0c0c0\" points=\"431.1193,-361.3001 421.1193,-364.8 431.1192,-368.3001 431.1193,-361.3001\"/>\n<text text-anchor=\"middle\" x=\"486.1462\" y=\"-370.8\" font-family=\"Helvetica,sans-Serif\" font-size=\"10.00\" fill=\"#000000\">Probability (Real or Fake)</text>\n</g>\n</g>\n</svg>"
          },
          "metadata": {}
        }
      ]
    },
    {
      "cell_type": "markdown",
      "source": [
        "\n",
        "<div style=\"background-color:#F0E3D2; color:#19180F; font-size:15px; font-family:Verdana; padding:10px; border: 2px solid #19180F; border-radius:10px\">\n",
        "📌\n",
        "Importing modules\n",
        "    </div>\n"
      ],
      "metadata": {
        "id": "IJxkEMqrlytD"
      }
    },
    {
      "cell_type": "code",
      "source": [
        "from torch import optim\n",
        "import os\n",
        "import torchvision.utils as utils\n",
        "import numpy as numpy\n",
        "from torchvision import  datasets\n",
        "from torchvision import transforms\n",
        "from torch.utils.data import Dataset, DataLoader\n",
        "import torch\n",
        "import torch.nn as nn\n",
        "import torch.nn.functional as F"
      ],
      "metadata": {
        "execution": {
          "iopub.status.busy": "2023-07-18T22:30:35.514318Z",
          "iopub.execute_input": "2023-07-18T22:30:35.515322Z",
          "iopub.status.idle": "2023-07-18T22:30:38.269108Z",
          "shell.execute_reply.started": "2023-07-18T22:30:35.51528Z",
          "shell.execute_reply": "2023-07-18T22:30:38.268011Z"
        },
        "trusted": true,
        "id": "jceRJGfIlytE"
      },
      "execution_count": 3,
      "outputs": []
    },
    {
      "cell_type": "markdown",
      "source": [
        "\n",
        "<div style=\"background-color:#F0E3D2; color:#19180F; font-size:15px; font-family:Verdana; padding:10px; border: 2px solid #19180F; border-radius:10px\">\n",
        "📌\n",
        "Downloading MNIST dataset and instantiating dataset    </div>\n"
      ],
      "metadata": {
        "id": "Cvhxp6xolytF"
      }
    },
    {
      "cell_type": "code",
      "source": [
        "dataset_path = os.path.join('./data', 'FashionMNIST')\n",
        "os.makedirs(dataset_path, exist_ok=True)\n",
        "model_path = os.path.join('./model', 'FashionMNIST')\n",
        "os.makedirs(model_path,exist_ok=True)\n",
        "samples_path = os.path.join('./samples','FashionMNIST')\n",
        "os.makedirs(samples_path,exist_ok=True)\n",
        "\n",
        "#defining the transform\n",
        "transform = transforms.Compose([transforms.Resize([32,32]),\n",
        "                                transforms.ToTensor(),\n",
        "                                transforms.Normalize([0.5],[0.5])])\n",
        "\n",
        "dataset = datasets.FashionMNIST(dataset_path, train=True, download=True, transform=transform)"
      ],
      "metadata": {
        "execution": {
          "iopub.status.busy": "2023-07-18T22:30:38.271615Z",
          "iopub.execute_input": "2023-07-18T22:30:38.272289Z",
          "iopub.status.idle": "2023-07-18T22:30:45.09785Z",
          "shell.execute_reply.started": "2023-07-18T22:30:38.272246Z",
          "shell.execute_reply": "2023-07-18T22:30:45.096643Z"
        },
        "trusted": true,
        "id": "9mr0mTPJlytG",
        "outputId": "36724e22-fe87-4ced-a35a-12e5c4414dfa",
        "colab": {
          "base_uri": "https://localhost:8080/"
        }
      },
      "execution_count": 4,
      "outputs": [
        {
          "output_type": "stream",
          "name": "stdout",
          "text": [
            "Downloading http://fashion-mnist.s3-website.eu-central-1.amazonaws.com/train-images-idx3-ubyte.gz\n",
            "Downloading http://fashion-mnist.s3-website.eu-central-1.amazonaws.com/train-images-idx3-ubyte.gz to ./data/FashionMNIST/FashionMNIST/raw/train-images-idx3-ubyte.gz\n"
          ]
        },
        {
          "output_type": "stream",
          "name": "stderr",
          "text": [
            "100%|██████████| 26421880/26421880 [00:01<00:00, 15258883.76it/s]\n"
          ]
        },
        {
          "output_type": "stream",
          "name": "stdout",
          "text": [
            "Extracting ./data/FashionMNIST/FashionMNIST/raw/train-images-idx3-ubyte.gz to ./data/FashionMNIST/FashionMNIST/raw\n",
            "\n",
            "Downloading http://fashion-mnist.s3-website.eu-central-1.amazonaws.com/train-labels-idx1-ubyte.gz\n",
            "Downloading http://fashion-mnist.s3-website.eu-central-1.amazonaws.com/train-labels-idx1-ubyte.gz to ./data/FashionMNIST/FashionMNIST/raw/train-labels-idx1-ubyte.gz\n"
          ]
        },
        {
          "output_type": "stream",
          "name": "stderr",
          "text": [
            "100%|██████████| 29515/29515 [00:00<00:00, 270043.33it/s]\n"
          ]
        },
        {
          "output_type": "stream",
          "name": "stdout",
          "text": [
            "Extracting ./data/FashionMNIST/FashionMNIST/raw/train-labels-idx1-ubyte.gz to ./data/FashionMNIST/FashionMNIST/raw\n",
            "\n",
            "Downloading http://fashion-mnist.s3-website.eu-central-1.amazonaws.com/t10k-images-idx3-ubyte.gz\n",
            "Downloading http://fashion-mnist.s3-website.eu-central-1.amazonaws.com/t10k-images-idx3-ubyte.gz to ./data/FashionMNIST/FashionMNIST/raw/t10k-images-idx3-ubyte.gz\n"
          ]
        },
        {
          "output_type": "stream",
          "name": "stderr",
          "text": [
            "100%|██████████| 4422102/4422102 [00:00<00:00, 5086998.78it/s]\n"
          ]
        },
        {
          "output_type": "stream",
          "name": "stdout",
          "text": [
            "Extracting ./data/FashionMNIST/FashionMNIST/raw/t10k-images-idx3-ubyte.gz to ./data/FashionMNIST/FashionMNIST/raw\n",
            "\n",
            "Downloading http://fashion-mnist.s3-website.eu-central-1.amazonaws.com/t10k-labels-idx1-ubyte.gz\n",
            "Downloading http://fashion-mnist.s3-website.eu-central-1.amazonaws.com/t10k-labels-idx1-ubyte.gz to ./data/FashionMNIST/FashionMNIST/raw/t10k-labels-idx1-ubyte.gz\n"
          ]
        },
        {
          "output_type": "stream",
          "name": "stderr",
          "text": [
            "100%|██████████| 5148/5148 [00:00<00:00, 17597617.76it/s]"
          ]
        },
        {
          "output_type": "stream",
          "name": "stdout",
          "text": [
            "Extracting ./data/FashionMNIST/FashionMNIST/raw/t10k-labels-idx1-ubyte.gz to ./data/FashionMNIST/FashionMNIST/raw\n",
            "\n"
          ]
        },
        {
          "output_type": "stream",
          "name": "stderr",
          "text": [
            "\n"
          ]
        }
      ]
    },
    {
      "cell_type": "markdown",
      "source": [
        "\n",
        "<div style=\"background-color:#F0E3D2; color:#19180F; font-size:15px; font-family:Verdana; padding:10px; border: 2px solid #19180F; border-radius:10px\">\n",
        "📌\n",
        "Creating dataloader    </div>\n"
      ],
      "metadata": {
        "id": "Dw0P1qAPlytG"
      }
    },
    {
      "cell_type": "code",
      "source": [
        "train_loader = DataLoader(dataset=dataset, batch_size=256, shuffle=True, num_workers=4, drop_last=True)\n"
      ],
      "metadata": {
        "execution": {
          "iopub.status.busy": "2023-07-18T22:30:45.099281Z",
          "iopub.execute_input": "2023-07-18T22:30:45.100318Z",
          "iopub.status.idle": "2023-07-18T22:30:45.109379Z",
          "shell.execute_reply.started": "2023-07-18T22:30:45.100273Z",
          "shell.execute_reply": "2023-07-18T22:30:45.108078Z"
        },
        "trusted": true,
        "id": "CQ73zzBwlytH",
        "outputId": "f15b874f-7447-488b-9f92-2859e5cd559d",
        "colab": {
          "base_uri": "https://localhost:8080/"
        }
      },
      "execution_count": 5,
      "outputs": [
        {
          "output_type": "stream",
          "name": "stderr",
          "text": [
            "/usr/local/lib/python3.10/dist-packages/torch/utils/data/dataloader.py:558: UserWarning: This DataLoader will create 4 worker processes in total. Our suggested max number of worker in current system is 2, which is smaller than what this DataLoader is going to create. Please be aware that excessive worker creation might get DataLoader running slow or even freeze, lower the worker number to avoid potential slowness/freeze if necessary.\n",
            "  warnings.warn(_create_warning_msg(\n"
          ]
        }
      ]
    },
    {
      "cell_type": "markdown",
      "source": [
        "\n",
        "<div style=\"background-color:#F0E3D2; color:#19180F; font-size:15px; font-family:Verdana; padding:10px; border: 2px solid #19180F; border-radius:10px\">\n",
        "📌\n",
        "performing sanity check of the dataloader    </div>\n"
      ],
      "metadata": {
        "id": "20Q6TK4-lytI"
      }
    },
    {
      "cell_type": "code",
      "source": [
        "for batch in train_loader:\n",
        "    print(batch)\n",
        "    break"
      ],
      "metadata": {
        "execution": {
          "iopub.status.busy": "2023-07-18T22:30:45.112591Z",
          "iopub.execute_input": "2023-07-18T22:30:45.113435Z",
          "iopub.status.idle": "2023-07-18T22:30:45.682566Z",
          "shell.execute_reply.started": "2023-07-18T22:30:45.113395Z",
          "shell.execute_reply": "2023-07-18T22:30:45.681138Z"
        },
        "trusted": true,
        "id": "gy_nlI86lytJ",
        "outputId": "4e793f5b-f10e-4665-db52-e18ce162c5d6",
        "colab": {
          "base_uri": "https://localhost:8080/"
        }
      },
      "execution_count": 6,
      "outputs": [
        {
          "output_type": "stream",
          "name": "stdout",
          "text": [
            "[tensor([[[[-1.0000, -1.0000, -1.0000,  ..., -1.0000, -1.0000, -1.0000],\n",
            "          [-1.0000, -1.0000, -1.0000,  ..., -1.0000, -1.0000, -1.0000],\n",
            "          [-1.0000, -1.0000, -1.0000,  ..., -1.0000, -1.0000, -1.0000],\n",
            "          ...,\n",
            "          [-1.0000, -1.0000, -1.0000,  ..., -1.0000, -1.0000, -1.0000],\n",
            "          [-1.0000, -1.0000, -1.0000,  ..., -1.0000, -1.0000, -1.0000],\n",
            "          [-1.0000, -1.0000, -1.0000,  ..., -1.0000, -1.0000, -1.0000]]],\n",
            "\n",
            "\n",
            "        [[[-1.0000, -1.0000, -1.0000,  ..., -1.0000, -1.0000, -1.0000],\n",
            "          [-1.0000, -1.0000, -1.0000,  ..., -1.0000, -1.0000, -1.0000],\n",
            "          [-1.0000, -1.0000, -1.0000,  ..., -1.0000, -1.0000, -1.0000],\n",
            "          ...,\n",
            "          [-1.0000, -1.0000, -1.0000,  ..., -1.0000, -1.0000, -1.0000],\n",
            "          [-1.0000, -1.0000, -1.0000,  ..., -1.0000, -1.0000, -1.0000],\n",
            "          [-1.0000, -1.0000, -1.0000,  ..., -1.0000, -1.0000, -1.0000]]],\n",
            "\n",
            "\n",
            "        [[[-1.0000, -1.0000, -1.0000,  ..., -1.0000, -1.0000, -1.0000],\n",
            "          [-1.0000, -1.0000, -1.0000,  ..., -1.0000, -1.0000, -1.0000],\n",
            "          [-1.0000, -1.0000, -1.0000,  ..., -1.0000, -1.0000, -1.0000],\n",
            "          ...,\n",
            "          [-1.0000, -1.0000, -1.0000,  ..., -1.0000, -1.0000, -1.0000],\n",
            "          [-1.0000, -1.0000, -1.0000,  ..., -1.0000, -1.0000, -1.0000],\n",
            "          [-1.0000, -1.0000, -1.0000,  ..., -1.0000, -1.0000, -1.0000]]],\n",
            "\n",
            "\n",
            "        ...,\n",
            "\n",
            "\n",
            "        [[[-1.0000, -1.0000, -1.0000,  ..., -1.0000, -1.0000, -1.0000],\n",
            "          [-1.0000, -1.0000, -1.0000,  ..., -1.0000, -1.0000, -1.0000],\n",
            "          [-1.0000, -1.0000, -1.0000,  ..., -1.0000, -1.0000, -1.0000],\n",
            "          ...,\n",
            "          [-1.0000, -1.0000, -1.0000,  ..., -1.0000, -1.0000, -1.0000],\n",
            "          [-1.0000, -1.0000, -1.0000,  ..., -1.0000, -1.0000, -1.0000],\n",
            "          [-1.0000, -1.0000, -1.0000,  ..., -1.0000, -1.0000, -1.0000]]],\n",
            "\n",
            "\n",
            "        [[[-1.0000, -1.0000, -1.0000,  ..., -1.0000, -1.0000, -1.0000],\n",
            "          [-1.0000, -1.0000, -1.0000,  ..., -1.0000, -1.0000, -1.0000],\n",
            "          [-1.0000, -1.0000, -1.0000,  ..., -1.0000, -1.0000, -1.0000],\n",
            "          ...,\n",
            "          [-1.0000, -1.0000, -0.6078,  ..., -0.6000, -1.0000, -1.0000],\n",
            "          [-1.0000, -1.0000, -0.5059,  ..., -0.4667, -1.0000, -1.0000],\n",
            "          [-1.0000, -1.0000, -0.9686,  ..., -0.9843, -1.0000, -1.0000]]],\n",
            "\n",
            "\n",
            "        [[[-1.0000, -1.0000, -1.0000,  ..., -1.0000, -1.0000, -1.0000],\n",
            "          [-1.0000, -1.0000, -1.0000,  ..., -1.0000, -1.0000, -1.0000],\n",
            "          [-1.0000, -1.0000, -1.0000,  ..., -1.0000, -1.0000, -1.0000],\n",
            "          ...,\n",
            "          [-1.0000, -1.0000, -1.0000,  ..., -1.0000, -1.0000, -1.0000],\n",
            "          [-1.0000, -1.0000, -1.0000,  ..., -1.0000, -1.0000, -1.0000],\n",
            "          [-1.0000, -1.0000, -1.0000,  ..., -1.0000, -1.0000, -1.0000]]]]), tensor([9, 5, 4, 6, 3, 7, 7, 8, 3, 2, 5, 9, 2, 1, 6, 6, 3, 8, 3, 9, 6, 4, 0, 2,\n",
            "        4, 4, 5, 9, 1, 2, 7, 0, 6, 5, 1, 4, 2, 8, 5, 8, 2, 7, 0, 4, 3, 8, 9, 6,\n",
            "        3, 4, 7, 4, 8, 7, 3, 7, 7, 1, 3, 9, 4, 0, 5, 9, 8, 7, 4, 9, 5, 6, 0, 5,\n",
            "        0, 3, 5, 2, 5, 7, 1, 6, 1, 9, 3, 2, 5, 4, 5, 0, 7, 5, 8, 2, 4, 7, 7, 9,\n",
            "        5, 8, 9, 6, 0, 7, 0, 4, 1, 0, 5, 4, 8, 0, 2, 0, 1, 0, 1, 4, 8, 7, 4, 3,\n",
            "        3, 6, 3, 2, 2, 2, 9, 0, 0, 5, 4, 7, 8, 0, 9, 8, 6, 7, 2, 8, 0, 9, 6, 1,\n",
            "        5, 0, 0, 3, 3, 7, 5, 7, 6, 9, 4, 4, 8, 7, 3, 3, 0, 2, 6, 6, 7, 4, 1, 8,\n",
            "        8, 9, 6, 9, 6, 6, 1, 8, 6, 2, 9, 9, 6, 2, 5, 4, 1, 8, 3, 0, 6, 7, 8, 4,\n",
            "        2, 3, 9, 4, 7, 9, 4, 6, 0, 1, 5, 0, 1, 3, 3, 5, 5, 8, 3, 7, 8, 7, 1, 4,\n",
            "        0, 4, 3, 0, 2, 8, 4, 3, 4, 6, 7, 5, 8, 7, 3, 4, 8, 4, 9, 8, 3, 1, 6, 5,\n",
            "        7, 4, 8, 8, 8, 4, 9, 7, 3, 9, 2, 5, 6, 8, 6, 2])]\n"
          ]
        }
      ]
    },
    {
      "cell_type": "markdown",
      "source": [
        "\n",
        "<div style=\"background-color:#F0E3D2; color:#19180F; font-size:15px; font-family:Verdana; padding:10px; border: 2px solid #19180F; border-radius:10px\">\n",
        "📌\n",
        "Convolutional block    </div>\n"
      ],
      "metadata": {
        "id": "X4NpOHa1lytJ"
      }
    },
    {
      "cell_type": "code",
      "source": [
        "def convolution_block(in_channels,out_channels, kernel=4,stride=2, pad=1,bias=False, transpose=False):\n",
        "    module= []\n",
        "    if transpose:\n",
        "        module.append(nn.ConvTranspose2d(in_channels,out_channels,kernel,stride, pad, bias=bias))\n",
        "    else:\n",
        "        module.append(nn.Conv2d(in_channels,out_channels,kernel,stride,pad,bias=bias))\n",
        "    if bias == False:\n",
        "        #use batch norm\n",
        "        module.append(nn.BatchNorm2d(out_channels))\n",
        "\n",
        "    return nn.Sequential(*module)"
      ],
      "metadata": {
        "execution": {
          "iopub.status.busy": "2023-07-18T22:30:45.684205Z",
          "iopub.execute_input": "2023-07-18T22:30:45.685097Z",
          "iopub.status.idle": "2023-07-18T22:30:45.694534Z",
          "shell.execute_reply.started": "2023-07-18T22:30:45.685046Z",
          "shell.execute_reply": "2023-07-18T22:30:45.693294Z"
        },
        "trusted": true,
        "id": "XiZgEQZUlytK"
      },
      "execution_count": 7,
      "outputs": []
    },
    {
      "cell_type": "markdown",
      "source": [
        "\n",
        "<div style=\"background-color:#F0E3D2; color:#19180F; font-size:15px; font-family:Verdana; padding:10px; border: 2px solid #19180F; border-radius:10px\">\n",
        "📌\n",
        "Defining generator model    </div>\n"
      ],
      "metadata": {
        "id": "erGgHHqzlytK"
      }
    },
    {
      "cell_type": "code",
      "source": [
        "class Generator(nn.Module):\n",
        "    def __init__(self,z_dim=10, num_classes=10, label_embed_size=5, channels=3, conv_dim=64):\n",
        "        super().__init__()\n",
        "        self.label_embedding = nn.Embedding(num_classes, label_embed_size)\n",
        "        self.transpose_conv1 =convolution_block(z_dim+label_embed_size,conv_dim*4, pad=0, transpose=True)\n",
        "        self.transpose_conv2 = convolution_block(conv_dim*4, conv_dim*2, transpose=True)\n",
        "        self.transpose_conv3 = convolution_block(conv_dim*2, conv_dim, transpose=True)\n",
        "        self.transpose_conv4 = convolution_block(conv_dim, channels, transpose=True,bias=True) #no batch norm\n",
        "\n",
        "        for m in self.modules():\n",
        "            #initialising weights\n",
        "            if isinstance(m,nn.Conv2d) or isinstance(m,nn.ConvTranspose2d):\n",
        "                nn.init.normal_(m.weight, 0.0, 0.02)\n",
        "            if isinstance(m,nn.BatchNorm2d):\n",
        "                nn.init.constant_(m.weight,1)\n",
        "                nn.init.constant_(m.bias,0)\n",
        "\n",
        "    #enforcing label in forward pass\n",
        "    def forward(self,x,label):\n",
        "        #reshaping x\n",
        "        x = x.reshape([x.shape[0],-1,1,1])\n",
        "        label_embed = self.label_embedding(label)\n",
        "        label_embed = label_embed.reshape([label_embed.shape[0],-1,1,1])\n",
        "        x = torch.cat((x,label_embed),dim=1)\n",
        "        x = F.relu(self.transpose_conv1(x))\n",
        "        x = F.relu(self.transpose_conv2(x))\n",
        "        x = F.relu(self.transpose_conv3(x))\n",
        "        x = torch.tanh(self.transpose_conv4(x))\n",
        "        return x"
      ],
      "metadata": {
        "execution": {
          "iopub.status.busy": "2023-07-18T22:30:45.696383Z",
          "iopub.execute_input": "2023-07-18T22:30:45.696815Z",
          "iopub.status.idle": "2023-07-18T22:30:45.712431Z",
          "shell.execute_reply.started": "2023-07-18T22:30:45.696777Z",
          "shell.execute_reply": "2023-07-18T22:30:45.711033Z"
        },
        "trusted": true,
        "id": "OyvaYsmllytL"
      },
      "execution_count": 8,
      "outputs": []
    },
    {
      "cell_type": "markdown",
      "source": [
        "\n",
        "<div style=\"background-color:#F0E3D2; color:#19180F; font-size:15px; font-family:Verdana; padding:10px; border: 2px solid #19180F; border-radius:10px\">\n",
        "📌\n",
        "Defining discriminator model    </div>\n"
      ],
      "metadata": {
        "id": "iIvOLZlElytL"
      }
    },
    {
      "cell_type": "code",
      "source": [
        "class Discriminator(nn.Module):\n",
        "    def __init__(self, num_classes=10, channels=3, conv_dim=64):\n",
        "        super(Discriminator, self).__init__()\n",
        "        self.image_size = 32\n",
        "        self.label_embedding = nn.Embedding(num_classes, self.image_size*self.image_size)\n",
        "        self.conv1 = convolution_block(channels + 1, conv_dim, bias=True)\n",
        "        self.conv2 = convolution_block(conv_dim, conv_dim * 2)\n",
        "        self.conv3 = convolution_block(conv_dim * 2, conv_dim * 4)\n",
        "        self.conv4 = convolution_block(conv_dim * 4, 1, kernel=4, stride=1, pad=0, bias=True)\n",
        "\n",
        "        for m in self.modules():\n",
        "            if isinstance(m, nn.Conv2d):\n",
        "                nn.init.normal_(m.weight, 0.0, 0.02)\n",
        "\n",
        "            if isinstance(m, nn.BatchNorm2d):\n",
        "                nn.init.constant_(m.weight, 1)\n",
        "                nn.init.constant_(m.bias, 0)\n",
        "\n",
        "    def forward(self, x, label):\n",
        "        alpha = 0.2\n",
        "        label_embed = self.label_embedding(label)\n",
        "        label_embed = label_embed.reshape([label_embed.shape[0], 1, self.image_size, self.image_size])\n",
        "        x = torch.cat((x, label_embed), dim=1)\n",
        "        x = F.leaky_relu(self.conv1(x), alpha)\n",
        "        x = F.leaky_relu(self.conv2(x), alpha)\n",
        "        x = F.leaky_relu(self.conv3(x), alpha)\n",
        "        x = torch.sigmoid(self.conv4(x))\n",
        "        return x.squeeze()"
      ],
      "metadata": {
        "execution": {
          "iopub.status.busy": "2023-07-18T22:30:45.714155Z",
          "iopub.execute_input": "2023-07-18T22:30:45.714566Z",
          "iopub.status.idle": "2023-07-18T22:30:45.729586Z",
          "shell.execute_reply.started": "2023-07-18T22:30:45.714528Z",
          "shell.execute_reply": "2023-07-18T22:30:45.728422Z"
        },
        "trusted": true,
        "id": "0tf174UIlytM"
      },
      "execution_count": 9,
      "outputs": []
    },
    {
      "cell_type": "markdown",
      "source": [
        "\n",
        "<div style=\"background-color:#F0E3D2; color:#19180F; font-size:15px; font-family:Verdana; padding:10px; border: 2px solid #19180F; border-radius:10px\">\n",
        "📌\n",
        "Defining hyperparams and initializing the models\n",
        "</div>\n"
      ],
      "metadata": {
        "id": "2STd_Z9OlytM"
      }
    },
    {
      "cell_type": "code",
      "source": [
        "Z_DIM=10\n",
        "LABEL_EMBEDDING_SIZE=5\n",
        "NUM_CLASSES=10\n",
        "IMGS_TO_DISPLAY_PER_CLASS=10\n",
        "LOAD_MODEL = False\n",
        "CHANNELS=1\n",
        "EPOCHS =100\n",
        "BATCH_SIZE=256\n",
        "gen = Generator(z_dim=Z_DIM, num_classes=NUM_CLASSES, label_embed_size=LABEL_EMBEDDING_SIZE, channels=CHANNELS)\n",
        "dis = Discriminator(num_classes=NUM_CLASSES, channels=CHANNELS)"
      ],
      "metadata": {
        "execution": {
          "iopub.status.busy": "2023-07-18T22:30:45.731237Z",
          "iopub.execute_input": "2023-07-18T22:30:45.731635Z",
          "iopub.status.idle": "2023-07-18T22:30:45.78013Z",
          "shell.execute_reply.started": "2023-07-18T22:30:45.731597Z",
          "shell.execute_reply": "2023-07-18T22:30:45.779213Z"
        },
        "trusted": true,
        "id": "4tWxFtlLlytN"
      },
      "execution_count": 10,
      "outputs": []
    },
    {
      "cell_type": "markdown",
      "source": [
        "\n",
        "<div style=\"background-color:#F0E3D2; color:#19180F; font-size:15px; font-family:Verdana; padding:10px; border: 2px solid #19180F; border-radius:10px\">\n",
        "📌\n",
        "loading the model, if arg is true    </div>\n"
      ],
      "metadata": {
        "id": "jEiz_EY6lytN"
      }
    },
    {
      "cell_type": "code",
      "source": [
        "if LOAD_MODEL:\n",
        "    gen.load_state_dict(torch.load(os.path.join(model_path,'gen.pth')))\n",
        "    dis.load_state_dict(torch.load(os.path.join(model_path,'dis.pth')))"
      ],
      "metadata": {
        "execution": {
          "iopub.status.busy": "2023-07-18T22:30:45.781576Z",
          "iopub.execute_input": "2023-07-18T22:30:45.781904Z",
          "iopub.status.idle": "2023-07-18T22:30:45.788592Z",
          "shell.execute_reply.started": "2023-07-18T22:30:45.781874Z",
          "shell.execute_reply": "2023-07-18T22:30:45.787404Z"
        },
        "trusted": true,
        "id": "wwZgqy9nlytN"
      },
      "execution_count": 11,
      "outputs": []
    },
    {
      "cell_type": "code",
      "source": [
        "device = torch.device(\"cuda\" if torch.cuda.is_available() else \"cpu\")\n",
        "gen = gen.to(device)\n",
        "dis = dis.to(device)"
      ],
      "metadata": {
        "execution": {
          "iopub.status.busy": "2023-07-18T22:30:45.792952Z",
          "iopub.execute_input": "2023-07-18T22:30:45.793921Z",
          "iopub.status.idle": "2023-07-18T22:30:48.559813Z",
          "shell.execute_reply.started": "2023-07-18T22:30:45.793883Z",
          "shell.execute_reply": "2023-07-18T22:30:48.558567Z"
        },
        "trusted": true,
        "id": "pLHuEKPJlytO"
      },
      "execution_count": 12,
      "outputs": []
    },
    {
      "cell_type": "markdown",
      "source": [
        "\n",
        "<div style=\"background-color:#F0E3D2; color:#19180F; font-size:15px; font-family:Verdana; padding:10px; border: 2px solid #19180F; border-radius:10px\">\n",
        "📌\n",
        "Defining loss function and optimizer    </div>\n"
      ],
      "metadata": {
        "id": "NWs4kZXhlytO"
      }
    },
    {
      "cell_type": "code",
      "source": [
        "loss_function = nn.BCELoss()"
      ],
      "metadata": {
        "execution": {
          "iopub.status.busy": "2023-07-18T22:30:48.561427Z",
          "iopub.execute_input": "2023-07-18T22:30:48.56213Z",
          "iopub.status.idle": "2023-07-18T22:30:48.567659Z",
          "shell.execute_reply.started": "2023-07-18T22:30:48.562085Z",
          "shell.execute_reply": "2023-07-18T22:30:48.566573Z"
        },
        "trusted": true,
        "id": "EaPHv-ZjlytP"
      },
      "execution_count": 13,
      "outputs": []
    },
    {
      "cell_type": "code",
      "source": [
        "g_opt = optim.Adam(gen.parameters(), lr=0.0002, betas=(0.5, 0.999), weight_decay=2e-5)\n",
        "d_opt = optim.Adam(dis.parameters(), lr=0.0002, betas=(0.5, 0.999), weight_decay=2e-5)"
      ],
      "metadata": {
        "execution": {
          "iopub.status.busy": "2023-07-18T22:30:48.569044Z",
          "iopub.execute_input": "2023-07-18T22:30:48.569849Z",
          "iopub.status.idle": "2023-07-18T22:30:48.580927Z",
          "shell.execute_reply.started": "2023-07-18T22:30:48.56981Z",
          "shell.execute_reply": "2023-07-18T22:30:48.579716Z"
        },
        "trusted": true,
        "id": "aFGpdzsolytP"
      },
      "execution_count": 14,
      "outputs": []
    },
    {
      "cell_type": "markdown",
      "source": [
        "\n",
        "<div style=\"background-color:#F0E3D2; color:#19180F; font-size:15px; font-family:Verdana; padding:10px; border: 2px solid #19180F; border-radius:10px\">\n",
        "📌\n",
        "Fixing images for visualization    </div>\n"
      ],
      "metadata": {
        "id": "HHCMOM3glytP"
      }
    },
    {
      "cell_type": "code",
      "source": [
        "fixed_z = torch.randn(IMGS_TO_DISPLAY_PER_CLASS*NUM_CLASSES, Z_DIM)\n",
        "fixed_label = torch.arange(0, NUM_CLASSES)\n",
        "fixed_label = torch.repeat_interleave(fixed_label, IMGS_TO_DISPLAY_PER_CLASS)"
      ],
      "metadata": {
        "execution": {
          "iopub.status.busy": "2023-07-18T22:30:48.58242Z",
          "iopub.execute_input": "2023-07-18T22:30:48.582958Z",
          "iopub.status.idle": "2023-07-18T22:30:48.60999Z",
          "shell.execute_reply.started": "2023-07-18T22:30:48.582918Z",
          "shell.execute_reply": "2023-07-18T22:30:48.609027Z"
        },
        "trusted": true,
        "id": "iIuLluj_lytQ"
      },
      "execution_count": 15,
      "outputs": []
    },
    {
      "cell_type": "code",
      "source": [
        "fixed_label\n"
      ],
      "metadata": {
        "execution": {
          "iopub.status.busy": "2023-07-18T22:30:48.611923Z",
          "iopub.execute_input": "2023-07-18T22:30:48.61229Z",
          "iopub.status.idle": "2023-07-18T22:30:48.621078Z",
          "shell.execute_reply.started": "2023-07-18T22:30:48.612252Z",
          "shell.execute_reply": "2023-07-18T22:30:48.619856Z"
        },
        "trusted": true,
        "id": "3AVIp__IlytQ",
        "outputId": "f98644d0-6114-472c-bb39-47f09cba9f53",
        "colab": {
          "base_uri": "https://localhost:8080/"
        }
      },
      "execution_count": 16,
      "outputs": [
        {
          "output_type": "execute_result",
          "data": {
            "text/plain": [
              "tensor([0, 0, 0, 0, 0, 0, 0, 0, 0, 0, 1, 1, 1, 1, 1, 1, 1, 1, 1, 1, 2, 2, 2, 2,\n",
              "        2, 2, 2, 2, 2, 2, 3, 3, 3, 3, 3, 3, 3, 3, 3, 3, 4, 4, 4, 4, 4, 4, 4, 4,\n",
              "        4, 4, 5, 5, 5, 5, 5, 5, 5, 5, 5, 5, 6, 6, 6, 6, 6, 6, 6, 6, 6, 6, 7, 7,\n",
              "        7, 7, 7, 7, 7, 7, 7, 7, 8, 8, 8, 8, 8, 8, 8, 8, 8, 8, 9, 9, 9, 9, 9, 9,\n",
              "        9, 9, 9, 9])"
            ]
          },
          "metadata": {},
          "execution_count": 16
        }
      ]
    },
    {
      "cell_type": "markdown",
      "source": [
        "\n",
        "<div style=\"background-color:#F0E3D2; color:#19180F; font-size:15px; font-family:Verdana; padding:10px; border: 2px solid #19180F; border-radius:10px\">\n",
        "📌\n",
        "Assigning labels    </div>\n"
      ],
      "metadata": {
        "id": "MLmw1RgIlytQ"
      }
    },
    {
      "cell_type": "code",
      "source": [
        "real_label = torch.ones(BATCH_SIZE)\n",
        "fake_label = torch.zeros(BATCH_SIZE)"
      ],
      "metadata": {
        "execution": {
          "iopub.status.busy": "2023-07-18T22:30:48.622944Z",
          "iopub.execute_input": "2023-07-18T22:30:48.623303Z",
          "iopub.status.idle": "2023-07-18T22:30:48.629951Z",
          "shell.execute_reply.started": "2023-07-18T22:30:48.623266Z",
          "shell.execute_reply": "2023-07-18T22:30:48.6287Z"
        },
        "trusted": true,
        "id": "rDcLrjkvlytQ"
      },
      "execution_count": 17,
      "outputs": []
    },
    {
      "cell_type": "markdown",
      "source": [
        "\n",
        "<div style=\"background-color:#F0E3D2; color:#19180F; font-size:15px; font-family:Verdana; padding:10px; border: 2px solid #19180F; border-radius:10px\">\n",
        "📌\n",
        "Transferring latent vector and labels to device    </div>\n"
      ],
      "metadata": {
        "id": "TMeRx-CulytR"
      }
    },
    {
      "cell_type": "code",
      "source": [
        "real_label, fake_label = real_label.to(device), fake_label.to(device)\n",
        "fixed_z, fixed_label = fixed_z.to(device), fixed_label.to(device)"
      ],
      "metadata": {
        "execution": {
          "iopub.status.busy": "2023-07-18T22:30:48.631829Z",
          "iopub.execute_input": "2023-07-18T22:30:48.632668Z",
          "iopub.status.idle": "2023-07-18T22:30:48.640286Z",
          "shell.execute_reply.started": "2023-07-18T22:30:48.63263Z",
          "shell.execute_reply": "2023-07-18T22:30:48.639123Z"
        },
        "trusted": true,
        "id": "4uKKFKBilytR"
      },
      "execution_count": 18,
      "outputs": []
    },
    {
      "cell_type": "markdown",
      "source": [
        "\n",
        "<div style=\"background-color:#F0E3D2; color:#19180F; font-size:15px; font-family:Verdana; padding:10px; border: 2px solid #19180F; border-radius:10px\">\n",
        "📌\n",
        "Training the model for 10 epochs    </div>\n"
      ],
      "metadata": {
        "id": "F_AAXCkclytR"
      }
    },
    {
      "cell_type": "markdown",
      "source": [
        "\n",
        "<div style=\"background-color:#F0E3D2; color:#19180F; font-size:15px; font-family:Verdana; padding:10px; border: 2px solid #19180F; border-radius:10px\">\n",
        "📌\n",
        "Train more till discriminator loss increases i.e shows the model is getting fooled by fake images    </div>\n"
      ],
      "metadata": {
        "id": "lvB6LsIKlytS"
      }
    },
    {
      "cell_type": "code",
      "source": [],
      "metadata": {
        "id": "FXcqqWNllytS"
      },
      "execution_count": null,
      "outputs": []
    }
  ]
}